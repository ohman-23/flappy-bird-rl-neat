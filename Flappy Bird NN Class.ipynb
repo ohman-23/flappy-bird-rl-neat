{
 "cells": [
  {
   "cell_type": "code",
   "execution_count": 7,
   "metadata": {},
   "outputs": [],
   "source": [
    "import numpy as np\n",
    "import enum\n",
    "# maybe I don't need hidden layers"
   ]
  },
  {
   "cell_type": "code",
   "execution_count": 128,
   "metadata": {},
   "outputs": [],
   "source": [
    "class Utils:\n",
    "    @classmethod\n",
    "    def relu(cls, x):\n",
    "        # x is expected to be a numpy vector\n",
    "        x[x < 0] = 0\n",
    "        return x\n",
    "    \n",
    "    @classmethod\n",
    "    def sigmoid(cls, x):\n",
    "        return 1/(1+np.exp(-x))\n",
    "    \n",
    "    @classmethod\n",
    "    def add_bias_term(cls, vec):\n",
    "        if len(vec.shape) < 2:\n",
    "            vec = vec.reshape((1,-1))\n",
    "        new_vec = np.ones((1,len(vec[0])+1))\n",
    "        new_vec[0, :len(vec[0])] = vec[0]\n",
    "        return new_vec.reshape((1,-1))\n",
    "    \n",
    "    @classmethod\n",
    "    def genetic_crossover(cls, genome):\n",
    "            rand = np.random.random()\n",
    "            if 0 < rand < 0.45:\n",
    "                return 100.0\n",
    "            if 0.45 < rand < 0.9:\n",
    "                return 99.0\n",
    "            return np.random.randn()"
   ]
  },
  {
   "cell_type": "code",
   "execution_count": 149,
   "metadata": {},
   "outputs": [],
   "source": [
    "class BirdNN:\n",
    "    activations_supported = (\"relu\")\n",
    "    input_dim = 3\n",
    "    output_dim = 1\n",
    "    \n",
    "    def __init__(self, hidden_layers=None, inner_dims=None, activation=None, weights=None):\n",
    "        self.hidden_layers = hidden_layers\n",
    "        self.inner_dims = inner_dims\n",
    "        self.activation = activation\n",
    "        self.weights = weights\n",
    "        \n",
    "        if self.hidden_layers is None:\n",
    "            self.hidden_layers = 1\n",
    "        if self.inner_dims is None:\n",
    "            self.inner_dims = [6]\n",
    "        if self.activation is None:\n",
    "            self.activation = 'relu'\n",
    "        if self.weights is None:\n",
    "            self.weights = self._create_random_network()\n",
    "            \n",
    "        self.check_params()\n",
    "        self.activation_function = self._assign_activation_function()\n",
    "        \n",
    "    def check_params(self):\n",
    "        if self.hidden_layers == 0:\n",
    "            raise ValueError(\"hidden layers cannot be 0\")\n",
    "        if self.hidden_layers != len(self.inner_dims):\n",
    "            raise ValueError(\"mismatch between hidden_layers and provided dimension sizes\")\n",
    "        if self.weights is not None and len(self.weights) != (self.hidden_layers+1):\n",
    "            raise ValueError(\"weight matrixes provided do not match dimensions specified for Neural Network\")\n",
    "        if self.activation.lower() not in self.activations_supported:\n",
    "            raise ValueError(\"activation function specified not supported\")\n",
    "    \n",
    "    def _assign_activation_function(self):\n",
    "        functions = {'relu':Utils.relu}\n",
    "        return functions.get(self.activation)\n",
    "        \n",
    "    def _create_random_network(self):\n",
    "        dims = [self.input_dim, *self.inner_dims , self.output_dim]\n",
    "        dims = [(dims[i-1], dims[i]) for i in range(1, len(dims))]\n",
    "        weights = []\n",
    "        for matsize in dims:\n",
    "            weights.append(self._create_random_weight_matrix(matsize[0], matsize[1]))\n",
    "        return weights\n",
    "            \n",
    "    def forward(self, input_vec):\n",
    "        current_vec = input_vec\n",
    "        for weight_mat_ind in range(len(self.weights)):\n",
    "            weight_mat = self.weights[weight_mat_ind]\n",
    "            current_vec = Utils.add_bias_term(current_vec)\n",
    "            # (1,n+1) * (n+1, m) = (1, m)\n",
    "            current_vec = np.dot(current_vec, weight_mat)\n",
    "            if weight_mat_ind < len(self.weights)-1:\n",
    "                current_vec = self.activation_function(current_vec)\n",
    "        return Utils.sigmoid(current_vec)\n",
    "            \n",
    "    def _create_random_weight_matrix(self, input_dim, output_dim):\n",
    "        # the '+1' accounts for bias!\n",
    "        W = np.random.normal(0,1, size=(input_dim+1, output_dim))\n",
    "        # normalize just in case\n",
    "        MAX = np.max(W)\n",
    "        W = W/MAX\n",
    "        return W\n",
    "\n",
    "    \n",
    "    def mate(self, otherNN):\n",
    "        # assume that the inputs for the current input and the next input will be the same:\n",
    "        child_weights = []\n",
    "        for i in range(len(self.weights)):\n",
    "            this_layer = self.weights[i]\n",
    "            other_layer = otherNN.weights[i]\n",
    "            dim = this_layer.shape\n",
    "            child_layer, mask = np.zeros(dim), np.zeros(dim)\n",
    "            crossover_func = np.vectorize(Utils.genetic_crossover)\n",
    "            mask = crossover_func(mask)\n",
    "            \n",
    "            # DNA from parent A\n",
    "            this_layer[mask<100.0] = 0\n",
    "            child_layer += this_layer\n",
    "            \n",
    "            # DNA from parent B\n",
    "            other_layer[mask!=99.0] = 0\n",
    "            child_layer += other_layer\n",
    "            \n",
    "            # DNA from mutation\n",
    "            mask[mask>=99.0] = 0\n",
    "            child_layer += mask\n",
    "            \n",
    "            child_weights.append(child_layer)\n",
    "        return BirdNN(hidden_layers=self.hidden_layers, inner_dims=self.inner_dims, activation=\"relu\", weights=child_weights)\n",
    "            \n",
    "        "
   ]
  },
  {
   "cell_type": "code",
   "execution_count": 151,
   "metadata": {},
   "outputs": [
    {
     "name": "stdout",
     "output_type": "stream",
     "text": [
      "[(3, 10), (10, 5), (5, 1)]\n",
      "[(3, 10), (10, 5), (5, 1)]\n",
      "[[-8.66487816e-01  8.48079117e-02 -2.50514229e-01 -1.17696829e+00\n",
      "  -6.13797160e-01  7.57051671e-01  8.83459925e-02  2.83209410e-01\n",
      "  -9.28098254e-01 -5.23830267e-01]\n",
      " [ 3.34676407e-01 -8.19165436e-01 -1.20960832e+00  5.67322767e-01\n",
      "  -3.59970280e-01 -7.12553649e-01  4.91696277e-01  4.94097520e-01\n",
      "   1.43657334e-01 -6.42928662e-01]\n",
      " [ 8.22063657e-01 -6.38095536e-01 -1.33720752e+00 -2.00108361e-01\n",
      "   2.79832910e-01 -6.69469130e-01 -3.22020314e-01  5.52148641e-01\n",
      "   6.93392712e-01  9.20303033e-02]\n",
      " [-1.30964531e-03  3.69886468e-01  1.00000000e+00 -7.16232143e-01\n",
      "   4.84150415e-01  9.38632957e-03 -1.45805531e+00  5.00367858e-01\n",
      "   7.88598350e-01 -8.30368156e-01]]\n",
      "[[ 0.63544314  0.02319004 -0.11957278  0.84582108  0.70722481 -0.21893225\n",
      "   0.33303729  0.18258239  0.07174661 -0.68268968]\n",
      " [ 1.          0.5042925  -0.20224053  0.65976837 -0.44818943 -0.20978262\n",
      "  -0.173611   -0.38237652  0.35092115 -0.17100093]\n",
      " [ 0.51081121  0.52309672 -0.07236795  0.31854638 -0.37650444  0.25876876\n",
      "   0.70282988 -0.6132406  -0.04310277 -1.25553686]\n",
      " [-0.00262461  0.06672392 -0.03316441 -0.07153369 -0.82821754 -1.04224568\n",
      "   0.29284307 -0.40157554  0.5864764  -0.62539521]]\n",
      "[[100.         100.         100.          99.          99.\n",
      "   99.         100.          99.         100.          99.        ]\n",
      " [ 99.         100.           0.24488356 100.          99.\n",
      "  100.          99.           0.4057807  100.          99.        ]\n",
      " [100.          99.          99.           0.3574413  100.\n",
      "   -1.3119691    0.9658078   99.          99.          99.        ]\n",
      " [100.         100.          99.          99.          99.\n",
      "   99.          99.          99.          99.         100.        ]]\n",
      "\n",
      "CHILD:\n",
      "[[-8.66487816e-01  8.48079117e-02 -2.50514229e-01  8.45821081e-01\n",
      "   7.07224806e-01 -2.18932248e-01  8.83459925e-02  1.82582393e-01\n",
      "  -9.28098254e-01 -6.82689677e-01]\n",
      " [ 1.00000000e+00 -8.19165436e-01  2.44883563e-01  5.67322767e-01\n",
      "  -4.48189429e-01 -7.12553649e-01 -1.73611000e-01  4.05780699e-01\n",
      "   1.43657334e-01 -1.71000928e-01]\n",
      " [ 8.22063657e-01  5.23096719e-01 -7.23679549e-02  3.57441299e-01\n",
      "   2.79832910e-01 -1.31196910e+00  9.65807796e-01 -6.13240602e-01\n",
      "  -4.31027674e-02 -1.25553686e+00]\n",
      " [-1.30964531e-03  3.69886468e-01 -3.31644071e-02 -7.15336935e-02\n",
      "  -8.28217540e-01 -1.04224568e+00  2.92843073e-01 -4.01575536e-01\n",
      "   5.86476401e-01 -8.30368156e-01]]\n",
      "[[-0.01285023  0.76182184  0.14288661 -0.46577539  0.46020602]\n",
      " [ 0.92041965  0.52558325 -0.03574576  0.05192384  0.00801144]\n",
      " [-0.01479666  0.51211291  0.30013127 -0.48097762  0.55998409]\n",
      " [-0.27410052  0.13679464  0.23975047  0.06489933  0.12579461]\n",
      " [ 0.51622149 -0.252303   -0.4428353  -0.68746955 -0.86442619]\n",
      " [ 0.25312313  0.28695506  0.72027238 -0.28114586  1.        ]\n",
      " [-0.9702674   0.86848237 -0.94638826 -0.02966604 -0.25281397]\n",
      " [-0.15024347  0.08385277 -0.09489515 -0.44646909 -0.19197528]\n",
      " [ 0.8465747   0.94565185 -0.36079675 -0.92780747  0.23265485]\n",
      " [-0.38499693 -1.13842193 -0.25090182 -0.02928603  0.33347274]\n",
      " [ 0.15065379  0.40316197  0.13415079  0.70785447 -0.19984862]]\n",
      "[[ 0.04001368  0.5783604  -0.39636297 -0.19881465  0.07121928]\n",
      " [-0.2478832   0.1589226  -0.26741645 -0.2538307  -0.0408387 ]\n",
      " [ 0.56256247 -0.53017561  0.04775099 -0.29305111  0.31314302]\n",
      " [-0.0098396  -0.04460177 -0.48401533  0.26738115  1.        ]\n",
      " [ 0.08566702  0.21728903  0.39646822 -0.24243618  0.42538068]\n",
      " [ 0.0122623   0.22638915  0.65478698  0.30095739 -0.49567873]\n",
      " [-0.40289157  0.68772767  0.52862165  0.60605315 -0.30628236]\n",
      " [-0.18088052  0.14874416 -0.43112968  0.39237405 -0.02331795]\n",
      " [-0.0244455  -0.02711091 -0.87667397 -0.48025308  0.11625026]\n",
      " [-0.40155078 -0.09588737  0.25538572 -0.73798793  0.31712298]\n",
      " [-0.05842129  0.59502117  0.05483348  0.16424327 -0.60896308]]\n",
      "[[ 99.          99.          -0.7234073  100.         100.        ]\n",
      " [ 99.         100.          99.         100.          99.        ]\n",
      " [ 99.          99.         100.          99.          99.        ]\n",
      " [100.          99.         100.          99.         100.        ]\n",
      " [ 99.          99.         100.          99.         100.        ]\n",
      " [ -0.13150858  99.         100.          99.         100.        ]\n",
      " [  0.73892672  99.         100.         100.         100.        ]\n",
      " [ 99.          99.          99.         100.          99.        ]\n",
      " [ 99.          99.          -0.4475057  100.           0.82056049]\n",
      " [ 99.          99.         100.          99.         100.        ]\n",
      " [ 99.           0.28408324 100.          99.          99.        ]]\n",
      "\n",
      "CHILD:\n",
      "[[ 0.04001368  0.5783604  -0.7234073  -0.46577539  0.46020602]\n",
      " [-0.2478832   0.52558325 -0.26741645  0.05192384 -0.0408387 ]\n",
      " [ 0.56256247 -0.53017561  0.30013127 -0.29305111  0.31314302]\n",
      " [-0.27410052 -0.04460177  0.23975047  0.26738115  0.12579461]\n",
      " [ 0.08566702  0.21728903 -0.4428353  -0.24243618 -0.86442619]\n",
      " [-0.13150858  0.22638915  0.72027238  0.30095739  1.        ]\n",
      " [ 0.73892672  0.68772767 -0.94638826 -0.02966604 -0.25281397]\n",
      " [-0.18088052  0.14874416 -0.43112968 -0.44646909 -0.02331795]\n",
      " [-0.0244455  -0.02711091 -0.4475057  -0.92780747  0.82056049]\n",
      " [-0.40155078 -0.09588737 -0.25090182 -0.73798793  0.33347274]\n",
      " [-0.05842129  0.28408324  0.13415079  0.16424327 -0.60896308]]\n",
      "[[-0.30259553]\n",
      " [ 1.        ]\n",
      " [ 0.25380938]\n",
      " [ 0.01495687]\n",
      " [ 0.06722871]\n",
      " [ 0.59447713]]\n",
      "[[ 0.09308186]\n",
      " [ 0.49566481]\n",
      " [ 0.30975381]\n",
      " [-1.02976062]\n",
      " [ 1.        ]\n",
      " [-0.3239317 ]]\n",
      "[[100.]\n",
      " [ 99.]\n",
      " [ 99.]\n",
      " [100.]\n",
      " [ 99.]\n",
      " [100.]]\n",
      "\n",
      "CHILD:\n",
      "[[-0.30259553]\n",
      " [ 0.49566481]\n",
      " [ 0.30975381]\n",
      " [ 0.01495687]\n",
      " [ 1.        ]\n",
      " [ 0.59447713]]\n",
      "[array([[-0.86648782,  0.08480791, -0.25051423,  0.        ,  0.        ,\n",
      "         0.        ,  0.08834599,  0.        , -0.92809825,  0.        ],\n",
      "       [ 0.        , -0.81916544,  0.        ,  0.56732277,  0.        ,\n",
      "        -0.71255365,  0.        ,  0.        ,  0.14365733,  0.        ],\n",
      "       [ 0.82206366,  0.        ,  0.        ,  0.        ,  0.27983291,\n",
      "         0.        ,  0.        ,  0.        ,  0.        ,  0.        ],\n",
      "       [-0.00130965,  0.36988647,  0.        ,  0.        ,  0.        ,\n",
      "         0.        ,  0.        ,  0.        ,  0.        , -0.83036816]]), array([[ 0.        ,  0.        ,  0.        , -0.46577539,  0.46020602],\n",
      "       [ 0.        ,  0.52558325,  0.        ,  0.05192384,  0.        ],\n",
      "       [ 0.        ,  0.        ,  0.30013127,  0.        ,  0.        ],\n",
      "       [-0.27410052,  0.        ,  0.23975047,  0.        ,  0.12579461],\n",
      "       [ 0.        ,  0.        , -0.4428353 ,  0.        , -0.86442619],\n",
      "       [ 0.        ,  0.        ,  0.72027238,  0.        ,  1.        ],\n",
      "       [ 0.        ,  0.        , -0.94638826, -0.02966604, -0.25281397],\n",
      "       [ 0.        ,  0.        ,  0.        , -0.44646909,  0.        ],\n",
      "       [ 0.        ,  0.        ,  0.        , -0.92780747,  0.        ],\n",
      "       [ 0.        ,  0.        , -0.25090182,  0.        ,  0.33347274],\n",
      "       [ 0.        ,  0.        ,  0.13415079,  0.        ,  0.        ]]), array([[-0.30259553],\n",
      "       [ 0.        ],\n",
      "       [ 0.        ],\n",
      "       [ 0.01495687],\n",
      "       [ 0.        ],\n",
      "       [ 0.59447713]])]\n",
      "<__main__.BirdNN object at 0x000001FED932BA00>\n"
     ]
    },
    {
     "data": {
      "text/plain": [
       "array([[0.64439175]])"
      ]
     },
     "execution_count": 151,
     "metadata": {},
     "output_type": "execute_result"
    }
   ],
   "source": [
    "testNN = BirdNN(hidden_layers=2, inner_dims=[10,5])\n",
    "otherNN = BirdNN(hidden_layers=2, inner_dims=[10,5])\n",
    "newNN = testNN.mate(otherNN)\n",
    "print(testNN.weights)\n",
    "print(testNN)\n",
    "test_vec = np.array([1,2,3])\n",
    "testNN.forward(test_vec)"
   ]
  },
  {
   "cell_type": "code",
   "execution_count": 68,
   "metadata": {},
   "outputs": [
    {
     "data": {
      "text/plain": [
       "array([0, 0, 3, 5])"
      ]
     },
     "execution_count": 68,
     "metadata": {},
     "output_type": "execute_result"
    }
   ],
   "source": [
    "Utils.relu(np.array([-1,-2,3,5]))"
   ]
  },
  {
   "cell_type": "markdown",
   "metadata": {},
   "source": [
    "#### Todo:\n",
    "- remove `hidden_layers` metric"
   ]
  },
  {
   "cell_type": "code",
   "execution_count": 111,
   "metadata": {},
   "outputs": [
    {
     "data": {
      "text/plain": [
       "array([100.        , 100.        ,   0.64963185, 100.        ,\n",
       "        99.        ,  -1.09500723,   0.31867489,  99.        ,\n",
       "       100.        ,  99.        ])"
      ]
     },
     "execution_count": 111,
     "metadata": {},
     "output_type": "execute_result"
    }
   ],
   "source": [
    "def breed_func(x):\n",
    "    rand = np.random.random()\n",
    "    if 0 < rand < 0.45:\n",
    "        return 100.0\n",
    "    if 0.45 < rand < 0.9:\n",
    "        return 99.0\n",
    "    return np.random.randn()\n",
    "\n",
    "f = np.vectorize(breed_func)\n",
    "f(np.random.randn(10).astype('float'))"
   ]
  },
  {
   "cell_type": "code",
   "execution_count": 103,
   "metadata": {},
   "outputs": [
    {
     "data": {
      "text/plain": [
       "-1.2568669539478057"
      ]
     },
     "execution_count": 103,
     "metadata": {},
     "output_type": "execute_result"
    }
   ],
   "source": [
    "np.random.randn()"
   ]
  },
  {
   "cell_type": "code",
   "execution_count": 121,
   "metadata": {},
   "outputs": [
    {
     "data": {
      "text/plain": [
       "array([[3., 0., 0.],\n",
       "       [0., 3., 0.],\n",
       "       [0., 0., 3.]])"
      ]
     },
     "execution_count": 121,
     "metadata": {},
     "output_type": "execute_result"
    }
   ],
   "source": [
    "a = np.identity(3)\n",
    "a[a==1] = 3\n",
    "a"
   ]
  },
  {
   "cell_type": "code",
   "execution_count": 118,
   "metadata": {},
   "outputs": [
    {
     "data": {
      "text/plain": [
       "array([[1., 0., 0.],\n",
       "       [0., 1., 0.],\n",
       "       [0., 0., 1.]])"
      ]
     },
     "execution_count": 118,
     "metadata": {},
     "output_type": "execute_result"
    }
   ],
   "source": []
  },
  {
   "cell_type": "code",
   "execution_count": null,
   "metadata": {},
   "outputs": [],
   "source": []
  }
 ],
 "metadata": {
  "kernelspec": {
   "display_name": "Python 3",
   "language": "python",
   "name": "python3"
  },
  "language_info": {
   "codemirror_mode": {
    "name": "ipython",
    "version": 3
   },
   "file_extension": ".py",
   "mimetype": "text/x-python",
   "name": "python",
   "nbconvert_exporter": "python",
   "pygments_lexer": "ipython3",
   "version": "3.8.5"
  }
 },
 "nbformat": 4,
 "nbformat_minor": 2
}
